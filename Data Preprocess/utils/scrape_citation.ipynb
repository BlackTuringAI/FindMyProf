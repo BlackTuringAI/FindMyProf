{
 "cells": [
  {
   "cell_type": "code",
   "execution_count": 20,
   "id": "002b77d4",
   "metadata": {
    "ExecuteTime": {
     "end_time": "2024-02-17T04:10:22.024838Z",
     "start_time": "2024-02-17T04:10:17.391622Z"
    }
   },
   "outputs": [
    {
     "name": "stdout",
     "output_type": "stream",
     "text": [
      "[['Time', 'All', 'Last 3 years'], ['Citations', '13537', '12355'], ['h-index', '48', '47'], ['i10-index', '76', '76']]\n"
     ]
    },
    {
     "data": {
      "text/html": [
       "<div>\n",
       "<style scoped>\n",
       "    .dataframe tbody tr th:only-of-type {\n",
       "        vertical-align: middle;\n",
       "    }\n",
       "\n",
       "    .dataframe tbody tr th {\n",
       "        vertical-align: top;\n",
       "    }\n",
       "\n",
       "    .dataframe thead th {\n",
       "        text-align: right;\n",
       "    }\n",
       "</style>\n",
       "<table border=\"1\" class=\"dataframe\">\n",
       "  <thead>\n",
       "    <tr style=\"text-align: right;\">\n",
       "      <th></th>\n",
       "      <th>0</th>\n",
       "      <th>1</th>\n",
       "      <th>2</th>\n",
       "    </tr>\n",
       "  </thead>\n",
       "  <tbody>\n",
       "    <tr>\n",
       "      <th>0</th>\n",
       "      <td>Time</td>\n",
       "      <td>All</td>\n",
       "      <td>Last 3 years</td>\n",
       "    </tr>\n",
       "    <tr>\n",
       "      <th>1</th>\n",
       "      <td>Citations</td>\n",
       "      <td>13537</td>\n",
       "      <td>12355</td>\n",
       "    </tr>\n",
       "    <tr>\n",
       "      <th>2</th>\n",
       "      <td>h-index</td>\n",
       "      <td>48</td>\n",
       "      <td>47</td>\n",
       "    </tr>\n",
       "    <tr>\n",
       "      <th>3</th>\n",
       "      <td>i10-index</td>\n",
       "      <td>76</td>\n",
       "      <td>76</td>\n",
       "    </tr>\n",
       "  </tbody>\n",
       "</table>\n",
       "</div>"
      ],
      "text/plain": [
       "           0      1             2\n",
       "0       Time    All  Last 3 years\n",
       "1  Citations  13537         12355\n",
       "2    h-index     48            47\n",
       "3  i10-index     76            76"
      ]
     },
     "execution_count": 20,
     "metadata": {},
     "output_type": "execute_result"
    }
   ],
   "source": [
    "from selenium import webdriver\n",
    "from selenium.webdriver.common.keys import Keys\n",
    "from selenium.webdriver.chrome.service import Service\n",
    "from selenium.webdriver.common.by import By\n",
    "from selenium.webdriver.support.ui import WebDriverWait\n",
    "from selenium.webdriver.support import expected_conditions as EC\n",
    "import pandas as pd\n",
    "\n",
    "def scrape_citation(prof, school):\n",
    "    webdriver_service = Service('/home/fish/Documents/BT/FindMyProf/Data Preprocess/driver/chromedriver_ubuntu')\n",
    "    webdriver_service.start()\n",
    "\n",
    "    chrome_options = webdriver.ChromeOptions()\n",
    "    chrome_options.add_argument(\"window-size=1920,1080\")\n",
    "    #chrome_options.add_argument( \"--headless\") #==> not open chrome\n",
    "    chrome_options.add_argument(\"--start-maximized\")\n",
    "    driver = webdriver.Chrome(service=webdriver_service, options=chrome_options)\n",
    "\n",
    "    driver.get('https://www.google.com/')\n",
    "\n",
    "    search_input = driver.find_element(By.NAME, 'q')\n",
    "    search_input.send_keys(f'{prof} {school} google scholar')\n",
    "    search_input.send_keys(Keys.RETURN)\n",
    "    WebDriverWait(driver, 10).until(EC.presence_of_element_located((By.ID, 'search')))\n",
    "\n",
    "    first_link = driver.find_element(By.XPATH, '//*[@id=\"rso\"]/div[1]/div/div/div[1]/div/div/span/a')\n",
    "    first_link.click()\n",
    "    \n",
    "    try:\n",
    "        table = driver.find_element(By.XPATH, '//*[@id=\"gsc_rsb_st\"]')\n",
    "        rows = table.find_elements(By.TAG_NAME, 'tr')\n",
    "\n",
    "        data = [row.text for row in rows]\n",
    "        data = [i.split(\" \") for i in data]\n",
    "        data[0] = [\"Time\", \"All\", \"Last 3 years\"]\n",
    "        print(data)\n",
    "        df = pd.DataFrame(data)\n",
    "        driver.quit()\n",
    "    except:\n",
    "        driver.quit()\n",
    "        data = [['All', 'Since 2019'],\n",
    "                ['Citations', 0, 0],\n",
    "                ['h-index', 0, 0],\n",
    "                ['i10-index', 0, 0]]\n",
    "\n",
    "        df = pd.DataFrame(data)\n",
    "        return df\n",
    "    \n",
    "\n",
    "\n",
    "    return df\n",
    "\n",
    "scrape_citation(\"Yu lequan\", \"HKU\")"
   ]
  }
 ],
 "metadata": {
  "kernelspec": {
   "display_name": "Python 3 (ipykernel)",
   "language": "python",
   "name": "python3"
  },
  "language_info": {
   "codemirror_mode": {
    "name": "ipython",
    "version": 3
   },
   "file_extension": ".py",
   "mimetype": "text/x-python",
   "name": "python",
   "nbconvert_exporter": "python",
   "pygments_lexer": "ipython3",
   "version": "3.9.12"
  },
  "toc": {
   "base_numbering": 1,
   "nav_menu": {},
   "number_sections": true,
   "sideBar": true,
   "skip_h1_title": false,
   "title_cell": "Table of Contents",
   "title_sidebar": "Contents",
   "toc_cell": false,
   "toc_position": {},
   "toc_section_display": true,
   "toc_window_display": false
  }
 },
 "nbformat": 4,
 "nbformat_minor": 5
}
