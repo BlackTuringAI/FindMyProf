{
 "cells": [
  {
   "cell_type": "markdown",
   "id": "e26c8520",
   "metadata": {
    "ExecuteTime": {
     "end_time": "2024-01-13T09:33:58.171684Z",
     "start_time": "2024-01-13T09:33:58.166820Z"
    }
   },
   "source": [
    "## Universities:"
   ]
  },
  {
   "cell_type": "code",
   "execution_count": null,
   "id": "bd30a6b0",
   "metadata": {},
   "outputs": [],
   "source": [
    "hk_universities = []"
   ]
  },
  {
   "cell_type": "markdown",
   "id": "f5f2cec3",
   "metadata": {
    "ExecuteTime": {
     "end_time": "2024-01-13T09:33:58.171684Z",
     "start_time": "2024-01-13T09:33:58.166820Z"
    }
   },
   "source": [
    "## Faculties:"
   ]
  },
  {
   "cell_type": "code",
   "execution_count": null,
   "id": "7d1555ea",
   "metadata": {},
   "outputs": [],
   "source": [
    "\"\"\" Differenet school have different faculties \n",
    "\n",
    "Input: hk_universities[i]\n",
    "Output: A dict [hk_universities[i], [Faculties, ...], [link of faculties, ...]}\n",
    "Example [HKU, [Science Faculty, Bussiness Faculty,...], [\"https://www.scifac.hku.hk/people\", \"https://www.hkubs.hku.hk/research/faculty-members/\", ...] }\n",
    "\n",
    "Insight1: webscraping get to browser, search [school + faculties + \"profs\"], get first link\n",
    "Insight2: for now we dont have too many uni, can first use mannual to get some first\n",
    "\"\"\"\n",
    "\n",
    "def get_faculties(uni):\n",
    "    \n",
    "    return faculties_dict"
   ]
  },
  {
   "cell_type": "markdown",
   "id": "12fb2f17",
   "metadata": {
    "ExecuteTime": {
     "end_time": "2024-01-13T09:33:58.171684Z",
     "start_time": "2024-01-13T09:33:58.166820Z"
    }
   },
   "source": [
    "## Profs"
   ]
  },
  {
   "cell_type": "code",
   "execution_count": null,
   "id": "c6422c4b",
   "metadata": {},
   "outputs": [],
   "source": [
    "\"\"\" Differenet faculties have different profs\n",
    "\n",
    "Input: faculties, faculties link\n",
    "Output: [faculties, [profs]]\n",
    "Example [\"FBE\", [\"A\",\"B\",\"C\"]]\n",
    "\n",
    "Insight1: Use lib(request) to scrape\n",
    "\"\"\"\n",
    "\n",
    "def get_profs(faculty, faculty_link):\n",
    "    return profs"
   ]
  },
  {
   "cell_type": "markdown",
   "id": "f53c1c43",
   "metadata": {
    "ExecuteTime": {
     "end_time": "2024-01-13T09:33:58.171684Z",
     "start_time": "2024-01-13T09:33:58.166820Z"
    }
   },
   "source": [
    "## Data Aggreation"
   ]
  },
  {
   "cell_type": "code",
   "execution_count": 3,
   "id": "b090c08f",
   "metadata": {
    "ExecuteTime": {
     "end_time": "2024-01-13T09:50:04.929087Z",
     "start_time": "2024-01-13T09:50:03.917473Z"
    }
   },
   "outputs": [
    {
     "data": {
      "text/plain": [
       "',Uni,Faculty,Profs\\n'"
      ]
     },
     "execution_count": 3,
     "metadata": {},
     "output_type": "execute_result"
    }
   ],
   "source": [
    "import pandas as pd\n",
    "import numpy as np\n",
    "df = pd.DataFrame(columns=[\"Uni\",\"Faculty\",\"Profs\"])\n",
    "\n",
    "\"\"\"Operation\"\"\"\n",
    "df.to_csv()"
   ]
  },
  {
   "cell_type": "markdown",
   "id": "74c44af3",
   "metadata": {
    "ExecuteTime": {
     "end_time": "2024-01-13T09:33:58.171684Z",
     "start_time": "2024-01-13T09:33:58.166820Z"
    }
   },
   "source": [
    "## "
   ]
  },
  {
   "cell_type": "markdown",
   "id": "9746cfa8",
   "metadata": {
    "ExecuteTime": {
     "end_time": "2024-01-13T09:33:58.171684Z",
     "start_time": "2024-01-13T09:33:58.166820Z"
    }
   },
   "source": [
    "## "
   ]
  },
  {
   "cell_type": "markdown",
   "id": "61d7ebf6",
   "metadata": {
    "ExecuteTime": {
     "end_time": "2024-01-13T09:33:58.171684Z",
     "start_time": "2024-01-13T09:33:58.166820Z"
    }
   },
   "source": [
    "## "
   ]
  }
 ],
 "metadata": {
  "kernelspec": {
   "display_name": "DSLAB",
   "language": "python",
   "name": "dslab"
  },
  "language_info": {
   "codemirror_mode": {
    "name": "ipython",
    "version": 3
   },
   "file_extension": ".py",
   "mimetype": "text/x-python",
   "name": "python",
   "nbconvert_exporter": "python",
   "pygments_lexer": "ipython3",
   "version": "3.8.17"
  },
  "toc": {
   "base_numbering": 1,
   "nav_menu": {},
   "number_sections": true,
   "sideBar": true,
   "skip_h1_title": false,
   "title_cell": "Table of Contents",
   "title_sidebar": "Contents",
   "toc_cell": false,
   "toc_position": {},
   "toc_section_display": true,
   "toc_window_display": false
  }
 },
 "nbformat": 4,
 "nbformat_minor": 5
}
